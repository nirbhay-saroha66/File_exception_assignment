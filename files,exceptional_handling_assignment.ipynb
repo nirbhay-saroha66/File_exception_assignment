{
  "nbformat": 4,
  "nbformat_minor": 0,
  "metadata": {
    "colab": {
      "provenance": []
    },
    "kernelspec": {
      "name": "python3",
      "display_name": "Python 3"
    },
    "language_info": {
      "name": "python"
    }
  },
  "cells": [
    {
      "cell_type": "markdown",
      "source": [
        "##Theory Questions\n",
        "Q1)What is the difference between interpreted and compiled languages?"
      ],
      "metadata": {
        "id": "ZuG815Ii1h0o"
      }
    },
    {
      "cell_type": "code",
      "execution_count": null,
      "metadata": {
        "id": "B8EL2Kdp1fvg"
      },
      "outputs": [],
      "source": [
        "\"\"\"\n",
        "Compiled Languages: In compiled languages, the entire source code is translated\n",
        "into machine code (binary code) by a compiler before execution. The output is\n",
        "usually a standalone executable file.\n",
        "\n",
        "Once compiled, the program can be executed directly without needing the compiler again.\n",
        "The compiled program is platform-specific.\n",
        "\n",
        "whereas,\n",
        "Interpreted Languages:In interpreted languages, the source code is translated into\n",
        "machine code line-by-line at runtime by an interpreter.\n",
        "There is no separate compilation step before execution.\n",
        "\n",
        "The program needs the interpreter to run, which interprets the code during execution.\n",
        "\n",
        "\"\"\""
      ]
    },
    {
      "cell_type": "markdown",
      "source": [
        "Q2) What is exception handling in Python?"
      ],
      "metadata": {
        "id": "hyUcYMmX2MLu"
      }
    },
    {
      "cell_type": "code",
      "source": [
        "\"\"\"\n",
        "Exception handling is a mechanism in Python to manage and respond to runtime\n",
        "errors or unexpected events that occur during program execution. It prevents the\n",
        "program from crashing and allows developers to handle errors.\n",
        "\n",
        "Exception Handling Keywords:\n",
        "\n",
        "try: Block where you write code that might raise an exception.\n",
        "\n",
        "except: Block where you handle the exception if one occurs.\n",
        "\n",
        "\n",
        "\"\"\""
      ],
      "metadata": {
        "id": "5fdMeUOb2HN3"
      },
      "execution_count": null,
      "outputs": []
    },
    {
      "cell_type": "markdown",
      "source": [
        "Q3) What is the purpose of the finally block in exception handling?"
      ],
      "metadata": {
        "id": "ggPAdAuM24Ho"
      }
    },
    {
      "cell_type": "code",
      "source": [
        "\"\"\"\n",
        "The finally block in Python is used to execute a block of code regardless of\n",
        "whether an exception was raised or not in the try block. It ensures that essential\n",
        "cleanup tasks (like closing files, releasing resources, or disconnecting from a database)\n",
        "are performed no matter what happens during the execution of the try block.\n",
        "\n",
        "Characteristics of finally block:\n",
        "1.always executes\n",
        "2.resouce cleanup\n",
        "3.optional block\n",
        "\"\"\""
      ],
      "metadata": {
        "id": "hDi3VmjY26K1"
      },
      "execution_count": null,
      "outputs": []
    },
    {
      "cell_type": "markdown",
      "source": [
        "Q4)What is logging in Python?"
      ],
      "metadata": {
        "id": "z071uFpI3b6r"
      }
    },
    {
      "cell_type": "code",
      "source": [
        "\"\"\"\n",
        "Logging in Python is a built-in module that allows developers to track events that\n",
        "occur while a program is running. It helps in monitoring the program's flow,\n",
        "identifying errors, and diagnosing problems. Logging is an essential part of\n",
        "developing robust and maintainable software systems.\n",
        "\"\"\""
      ],
      "metadata": {
        "id": "i5pzPc9F3dW1"
      },
      "execution_count": null,
      "outputs": []
    },
    {
      "cell_type": "markdown",
      "source": [
        "Q5) What is the significance of the __del__ method in Python?"
      ],
      "metadata": {
        "id": "1g5paAv-3vcz"
      }
    },
    {
      "cell_type": "code",
      "source": [
        "\"\"\"\n",
        "The __del__ method in Python is a special method (also known as a destructor) that\n",
        "is automatically called when an object is about to be destroyed. It is primarily\n",
        "used to clean up resources that the object may have acquired during its lifetime,\n",
        "such as closing files, releasing memory, or disconnecting from network services.\n",
        "\n",
        "Purpose of the __del__ Method:\n",
        "Resource Cleanup: Release external resources like file handles, database connections,\n",
        "or network sockets.\n",
        "\n",
        "Finalization Logic: Ensure that certain finalization tasks are performed before\n",
        "the object is destroyed.\n",
        "\n",
        "Garbage Collection: Helps clean up when Python's garbage collector removes an\n",
        "unreferenced object.\n",
        "\"\"\""
      ],
      "metadata": {
        "colab": {
          "base_uri": "https://localhost:8080/"
        },
        "id": "yVJDHYN33xhX",
        "outputId": "3f249fdf-426e-47f0-96ba-da55c56c17f6"
      },
      "execution_count": 1,
      "outputs": [
        {
          "output_type": "error",
          "ename": "SyntaxError",
          "evalue": "incomplete input (<ipython-input-1-e4615a684824>, line 1)",
          "traceback": [
            "\u001b[0;36m  File \u001b[0;32m\"<ipython-input-1-e4615a684824>\"\u001b[0;36m, line \u001b[0;32m1\u001b[0m\n\u001b[0;31m    \"\"\"\u001b[0m\n\u001b[0m    ^\u001b[0m\n\u001b[0;31mSyntaxError\u001b[0m\u001b[0;31m:\u001b[0m incomplete input\n"
          ]
        }
      ]
    },
    {
      "cell_type": "markdown",
      "source": [
        "Q6)  What is the difference between import and from ... import in Python?"
      ],
      "metadata": {
        "id": "-pxJjfOc5tak"
      }
    },
    {
      "cell_type": "code",
      "source": [
        "\"\"\"\n",
        "import Statement:\n",
        "1.The import statement is used to import an entire module.\n",
        "2.You access the module's functions, classes, or variables using the module name\n",
        "as a prefix.\n",
        "\n",
        "=>Advantages:\n",
        "1.Namespace is well-organized.\n",
        "2.Reduces naming conflicts, as functions are prefixed with the module name.\n",
        "\n",
        "=>Disadvantages:\n",
        "1.Slightly more verbose, as you need to reference the module name every time.\n",
        "\n",
        "from ... import Statement:\n",
        "1.The from ... import statement imports specific functions, classes, or variables\n",
        "directly from a module.\n",
        "2.You can use the imported items without the module prefix.\n",
        "\n",
        "=>Advantages:\n",
        "1.Cleaner and shorter code, as you don't need to prefix the module name.\n",
        "2.Useful when you only need a few items from a module.\n",
        "\n",
        "Disadvantages:\n",
        "1.Higher chance of naming conflicts if the imported names overlap with existing\n",
        "names in your code.\n",
        "2.Less explicit about where the functions come from.\n",
        "\"\"\""
      ],
      "metadata": {
        "id": "lZLQOEdg3-gg"
      },
      "execution_count": null,
      "outputs": []
    },
    {
      "cell_type": "markdown",
      "source": [
        "Q7) How can you handle multiple exceptions in Python?"
      ],
      "metadata": {
        "id": "kWJ17Vm06k8j"
      }
    },
    {
      "cell_type": "code",
      "source": [
        "\"\"\"\n",
        "In Python, you can handle multiple exceptions using several techniques to ensure your code gracefully responds to different types of errors.\n",
        "Here are the most common approaches:\n",
        "\n",
        "1.Handling Multiple Exceptions with Multiple except Blocks\n",
        "=>You can have multiple except blocks to handle different types of exceptions independently.\n",
        "\n",
        "2.Handling Multiple Exceptions in a Single except Block\n",
        "=>If multiple exceptions need the same handling logic, you can group them into\n",
        "a tuple in one except block.\n",
        "\n",
        "3.Using a BaseException Class\n",
        "=>You can handle all exceptions by catching the base Exception class. This is\n",
        "useful when you want to log unexpected exceptions or take generic actions.\n",
        "\n",
        "4.Using else with except\n",
        "=>The else block executes only if no exception occurs in the try block.\n",
        "\n",
        "5.Using finally for Cleanup\n",
        "=>The finally block always executes, regardless of whether an exception occurred\n",
        "or not. It is commonly used for resource cleanup.\n",
        "\n",
        "6. Raising Exceptions Manually (raise):\n",
        "=>You can re-raise exceptions manually after catching them if further handling\n",
        "is required.\n",
        "\"\"\""
      ],
      "metadata": {
        "id": "1djXqKGF7DTg"
      },
      "execution_count": null,
      "outputs": []
    },
    {
      "cell_type": "markdown",
      "source": [
        "Q8)  What is the purpose of the with statement when handling files in Python?"
      ],
      "metadata": {
        "id": "nSWhNbcz78F-"
      }
    },
    {
      "cell_type": "code",
      "source": [
        "\"\"\"\n",
        "The with statement in Python is used to simplify file handling and ensure that\n",
        "resources, such as file handles, are properly managed and released after use,\n",
        "even if an error occurs during file operations.\n",
        "\n",
        "Why Use the with Statement for File Handling?\n",
        "1.Automatic Resource Management:\n",
        "The with statement automatically closes the file after the block of code is executed, even if an exception occurs.\n",
        "\n",
        "2.Cleaner Syntax:\n",
        "Eliminates the need for explicitly calling file.close().\n",
        "\n",
        "3.Exception Safety:\n",
        "Ensures proper cleanup in case of errors, preventing resource leaks or locked files.\n",
        "\n",
        "4.Improved Readability:\n",
        "Makes the code more readable and concise.\n",
        "\"\"\""
      ],
      "metadata": {
        "id": "Fum78c7v79m2"
      },
      "execution_count": null,
      "outputs": []
    },
    {
      "cell_type": "markdown",
      "source": [
        "Q9) What is the difference between multithreading and multiprocessing?"
      ],
      "metadata": {
        "id": "Mwyqq3178wwC"
      }
    },
    {
      "cell_type": "code",
      "source": [
        "\"\"\"\n",
        "Multithreading:\n",
        "\n",
        "1.Definition: Multithreading allows multiple threads to run concurrently within\n",
        "the same process.\n",
        "\n",
        "2.Thread: A thread is the smallest unit of execution within a process.\n",
        "\n",
        "3.Python Limitation: Python’s Global Interpreter Lock (GIL) allows only one thread\n",
        "to execute Python bytecode at a time, limiting true parallel execution.\n",
        "\n",
        "4.Best For: I/O-bound tasks, such as file operations, network requests, or\n",
        "database access.\n",
        "\n",
        "Multiprocessing:\n",
        "\n",
        "1.Definition: Multiprocessing allows multiple processes to run concurrently,\n",
        "each with its own Python interpreter and memory space.\n",
        "\n",
        "2.Process: A process is an independent execution unit with its own memory space\n",
        "and resources.\n",
        "\n",
        "3.No GIL Limitation: Each process runs in its own interpreter instance, avoiding\n",
        "the GIL issue.\n",
        "\n",
        "4.Best For: CPU-bound tasks, such as mathematical computations, image processing,\n",
        "or data crunching.\n",
        "\"\"\""
      ],
      "metadata": {
        "id": "u-APMg8z8-u3"
      },
      "execution_count": null,
      "outputs": []
    },
    {
      "cell_type": "markdown",
      "source": [
        "Q10) What are the advantages of using logging in a program?"
      ],
      "metadata": {
        "id": "EnMJM4Ki9Y1j"
      }
    },
    {
      "cell_type": "code",
      "source": [
        "\"\"\"\n",
        "Advantages of Using Logging in a Program:\n",
        "1. Easy Debugging and Troubleshooting:\n",
        "Logs provide detailed insights into what happened before an issue occurred.\n",
        "\n",
        "2. Better than Print Statements:\n",
        "Logs can be redirected to files, databases, or remote servers, while print statements\n",
        "only output to the console.\n",
        "\n",
        "3. Granular Control with Log Levels:\n",
        "Logging supports different severity levels=> DEBUG, INFO, WARNING, ERROR, CRITICAL\n",
        "\n",
        "4. Centralized Logging:\n",
        "logging can be centralized across multiple modules and services,\n",
        "Makes it easier to monitor complex systems and distributed applications.\n",
        "\n",
        "5. Persistent Records:\n",
        "Logs can be saved to files or databases for long-term storage.\n",
        "\n",
        "6. Monitoring and Alerts:\n",
        "Logs can be monitored in real-time for anomalies or errors,\n",
        "Can trigger alerts or notifications when specific events occur.\n",
        "\n",
        "7. Performance Analysis:\n",
        "Logging can be used to track execution times and identify bottlenecks in the code.\n",
        "\n",
        "8. Flexibility and Configurability:\n",
        "Logging can be easily configured to control,\n",
        "=>Log format (e.g., timestamps, line numbers, function names).\n",
        "=>Log output destinations (console, files, remote servers).\n",
        "\n",
        "9. Supports Multi-threading and Multi-processing:\n",
        "Logging is thread-safe and supports concurrent applications.\n",
        "\n",
        "10. Facilitates Collaboration\n",
        "Logs make it easier for multiple developers or teams to understand system behavior.\n",
        "\"\"\""
      ],
      "metadata": {
        "id": "QgTK3jnu9aHa"
      },
      "execution_count": null,
      "outputs": []
    },
    {
      "cell_type": "markdown",
      "source": [
        "q11)  What is memory management in Python?\n"
      ],
      "metadata": {
        "id": "MtwvEa8h_wwe"
      }
    },
    {
      "cell_type": "code",
      "source": [
        "\"\"\"\n",
        "Memory management in Python refers to how Python allocates, tracks, and releases\n",
        "memory used by variables, objects, and data structures during program execution.\n",
        "Python's memory management system ensures efficient memory usage and automatic\n",
        "garbage collection to prevent memory leaks.\n",
        "\n",
        "Key Components of Python Memory Management\n",
        "1. Python Memory Manager\n",
        "2. Private Heap Space\n",
        "3. Garbage Collection (GC)\n",
        "4. Reference Counting\n",
        "5. Dynamic Typing and Memory Allocation\n",
        "6. Object Pools\n",
        "7. Stack and Heap Memory\n",
        "\"\"\""
      ],
      "metadata": {
        "id": "kSW2eqs__zXn"
      },
      "execution_count": null,
      "outputs": []
    },
    {
      "cell_type": "markdown",
      "source": [
        "Q12) What are the basic steps involved in exception handling in Python?"
      ],
      "metadata": {
        "id": "ux7ebAPuAd0c"
      }
    },
    {
      "cell_type": "code",
      "source": [
        "\"\"\"\n",
        "Key Steps in Exception Handling\n",
        "1. Try Block (try):\n",
        "The try block is where you place the code that might raise an exception.\n",
        "\n",
        "2. Except Block (except)\n",
        "The except block is where you handle exceptions raised in the try block.\n",
        "\n",
        "3. Else Block (else)\n",
        "The else block executes only if no exceptions are raised in the try block.\n",
        "\n",
        "4. Finally Block (finally)\n",
        "The finally block contains code that will always execute, whether an exception\n",
        "occurs or not.\n",
        "\n",
        "5. Raising Exceptions (raise)\n",
        "You can manually raise exceptions using the raise keyword.\n",
        "\n",
        "\"\"\""
      ],
      "metadata": {
        "id": "VPZWWVVpAfSC",
        "outputId": "44e8d99b-b595-4cbe-94fd-29aeee66f03d",
        "colab": {
          "base_uri": "https://localhost:8080/",
          "height": 109
        }
      },
      "execution_count": 2,
      "outputs": [
        {
          "output_type": "error",
          "ename": "SyntaxError",
          "evalue": "incomplete input (<ipython-input-2-e4615a684824>, line 1)",
          "traceback": [
            "\u001b[0;36m  File \u001b[0;32m\"<ipython-input-2-e4615a684824>\"\u001b[0;36m, line \u001b[0;32m1\u001b[0m\n\u001b[0;31m    \"\"\"\u001b[0m\n\u001b[0m    ^\u001b[0m\n\u001b[0;31mSyntaxError\u001b[0m\u001b[0;31m:\u001b[0m incomplete input\n"
          ]
        }
      ]
    },
    {
      "cell_type": "markdown",
      "source": [
        "Q13)  Why is memory management important in Python?"
      ],
      "metadata": {
        "id": "ZXwBe0sOBEOy"
      }
    },
    {
      "cell_type": "code",
      "source": [
        "\"\"\"\n",
        "Memory management is a critical aspect of programming in Python because it ensures\n",
        "that your application runs efficiently, reliably, and without memory leaks.\n",
        "Effective memory management prevents performance bottlenecks and ensures optimal\n",
        "resource utilization.\n",
        "\n",
        "1. Prevents Memory Leaks\n",
        "Memory leaks occur when memory that is no longer needed is not properly released,\n",
        "leading to excessive memory consumption.\n",
        "\n",
        "2. Optimizes Resource Usage\n",
        "Efficient memory management ensures that memory-intensive applications\n",
        "(e.g., large datasets, images, videos) do not overwhelm system resources.\n",
        "\n",
        "3. Improves Application Performance\n",
        "Proper memory management reduces unnecessary memory allocation and deallocation\n",
        "overhead.\n",
        "\n",
        "4. Supports Scalability\n",
        "Applications that efficiently manage memory can handle larger workloads and\n",
        "scale effectively.\n",
        "\n",
        "5. Avoids Application Crashes\n",
        "Excessive memory usage can cause an application to crash or become unresponsive.\n",
        "\n",
        "6. Facilitates Multi-threading and Multi-processing\n",
        "In multi-threaded and multi-process programs, effective memory management ensures\n",
        "that resources are shared safely and efficiently across threads and processes.\n",
        "\n",
        "7. Ensures Clean Resource Release\n",
        "Resources like file handlers, database connections, or network sockets should be\n",
        "released properly after use.\n",
        "\n",
        "8. Simplifies Development with Automatic Garbage Collection\n",
        "Python’s automatic garbage collector (GC) takes care of most memory cleanup tasks.\n",
        "\n",
        "9. Prevents Fragmentation\n",
        "Memory fragmentation happens when memory becomes scattered and unusable over time.\n",
        "\n",
        "10. Supports Long-Running Applications\n",
        "Applications that run for extended periods (e.g., web servers, background services)\n",
        "benefit greatly from proper memory management to avoid gradual memory buildup.\n",
        "\"\"\""
      ],
      "metadata": {
        "id": "ycoRoH1TAfxO"
      },
      "execution_count": null,
      "outputs": []
    },
    {
      "cell_type": "markdown",
      "source": [
        "Q14) What is the role of try and except in exception handling?"
      ],
      "metadata": {
        "id": "eaoGmj94COcG"
      }
    },
    {
      "cell_type": "code",
      "source": [
        "\"\"\"\n",
        "The try Block:\n",
        "\n",
        "Purpose:\n",
        "1.The try block contains code that might raise an exception during execution.\n",
        "2.Python monitors the code inside the try block for any errors.\n",
        "3.If an exception occurs, Python immediately stops execution of the try block and\n",
        "jumps to the corresponding except block.\n",
        "\n",
        "The except Block:\n",
        "\n",
        "Purpose:\n",
        "1.The except block handles exceptions raised in the try block.\n",
        "2.It provides a way to gracefully recover from errors without crashing the program.\n",
        "3.You can handle specific exceptions or use a generic exception handler.\n",
        "\"\"\""
      ],
      "metadata": {
        "id": "PVOCE2ftCQ6e"
      },
      "execution_count": null,
      "outputs": []
    },
    {
      "cell_type": "markdown",
      "source": [
        "Q15) How does Python's garbage collection system work?"
      ],
      "metadata": {
        "id": "gbvZXJ5PCzjl"
      }
    },
    {
      "cell_type": "code",
      "source": [
        "\"\"\"\n",
        "Python's Garbage Collection Works Step-by-Step:\n",
        "1.Reference Counting:\n",
        "=>Each object maintains a reference count.\n",
        "=>If an object's reference count drops to 0, it’s immediately deallocated.\n",
        "\n",
        "2.Generational Collection:\n",
        "=>Objects are categorized into Generation 0, 1, and 2.\n",
        "=>New objects start in Generation 0.\n",
        "=>Objects surviving a GC cycle are promoted to older generations.\n",
        "\n",
        "3.Cycle Detection:\n",
        "=>If cyclic references are detected, the garbage collector breaks the cycle and\n",
        "frees memory.\n",
        "\n",
        "4.Automatic Triggering:\n",
        "=>Garbage collection is triggered automatically when certain thresholds\n",
        "(object counts in each generation) are exceeded.\n",
        "\"\"\""
      ],
      "metadata": {
        "id": "B6-3xckqC5Rs"
      },
      "execution_count": null,
      "outputs": []
    },
    {
      "cell_type": "markdown",
      "source": [
        "Q16) What is the purpose of the else block in exception handling?"
      ],
      "metadata": {
        "id": "XNvr6pKfD_eT"
      }
    },
    {
      "cell_type": "code",
      "source": [
        "\"\"\"\n",
        "In Python, the else block is used in exception handling to define a section of\n",
        "code that should be executed only if no exception occurs in the try block.\n",
        "\n",
        "The else block allows you to separate normal code execution (when no errors happen) from error-handling code (inside the except block). This helps in writing clean, readable, and organized code.\n",
        "\"\"\""
      ],
      "metadata": {
        "id": "F8bghwYXEBB4"
      },
      "execution_count": null,
      "outputs": []
    },
    {
      "cell_type": "markdown",
      "source": [
        "Q17) What are the common logging levels in Python?"
      ],
      "metadata": {
        "id": "3OPQ-R0_Eci2"
      }
    },
    {
      "cell_type": "code",
      "source": [
        "\"\"\"\n",
        "common logging levels in increasing order of severity:\n",
        "1. DEBUG:\n",
        "Used for detailed information, typically useful for diagnosing problems and\n",
        "understanding program flow.\n",
        "\n",
        "2. INFO:\n",
        "Used for general information about program execution, such as successful\n",
        "execution of tasks or milestones.\n",
        "\n",
        "3. WARNING:\n",
        "Used to indicate that something unexpected happened, but it isn't necessarily\n",
        "an error. It might not be a problem, but it could be a potential issue.\n",
        "\n",
        "4. ERROR:\n",
        "Purpose: Used for more serious issues that affect the program's functionality\n",
        "but don't cause a program crash. Typically, errors indicate something went wrong\n",
        "with an operation or task.\n",
        "\n",
        "5. CRITICAL:\n",
        "Used for very severe situations, indicating that the program might be unable\n",
        "to continue running. This level represents the most critical errors.\n",
        "\"\"\""
      ],
      "metadata": {
        "id": "Dp4X3f4SEdnm"
      },
      "execution_count": null,
      "outputs": []
    },
    {
      "cell_type": "markdown",
      "source": [
        "Q18) What is the difference between os.fork() and multiprocessing in Python?"
      ],
      "metadata": {
        "id": "Z9nUMgVEVNDH"
      }
    },
    {
      "cell_type": "code",
      "source": [
        "\"\"\"\n",
        "os.fork():\n",
        "\n",
        "1.Definition: os.fork() is a low-level function provided by the os module to create\n",
        "a child process by duplicating the current process.\n",
        "\n",
        "2.Process Creation: The child process starts as a duplicate of the parent process,\n",
        "including memory space and variables.\n",
        "\n",
        "3.Manual Management: The developer is responsible for managing resources and\n",
        "synchronization between parent and child processes.\n",
        "\n",
        "Key Characteristics:\n",
        "1.Direct System Call: A thin wrapper around the Unix system call fork().\n",
        "2.No Abstraction: You need to handle inter-process communication (IPC) manually\n",
        "3.Return Value:\n",
        "=>In the parent process, os.fork() returns the PID of the child process.\n",
        "=>In the child process, it returns 0.\n",
        "4.Resource Sharing: The child process gets a copy of the parent process's memory space.\n",
        "\n",
        "multiprocessing Module:\n",
        "\n",
        "1.Definition: The multiprocessing module is a high-level library for creating\n",
        "and managing processes in Python.\n",
        "\n",
        "2.Process Creation: Creates completely separate processes, each with its\n",
        "own Python interpreter and memory space.\n",
        "\n",
        "3.Built-in Communication: Provides built-in mechanisms for inter-process communication (IPC),\n",
        "such as Queue, Pipe, Value, and Array.\n",
        "\n",
        "Key Characteristics:\n",
        "1.Abstraction: Abstracts away the complexities of process creation and management.\n",
        "2.Cross-Platform: Supports both Windows and Unix-like systems.\n",
        "3.IPC Support: Built-in tools for data sharing and communication between processes.\n",
        "4.Easier to Use: More developer-friendly than os.fork().\n",
        "\"\"\""
      ],
      "metadata": {
        "id": "BRp4pXmfVP00"
      },
      "execution_count": null,
      "outputs": []
    },
    {
      "cell_type": "markdown",
      "source": [
        "Q19) What is the importance of closing a file in Python?"
      ],
      "metadata": {
        "id": "Fh_xjyNZWUkf"
      }
    },
    {
      "cell_type": "code",
      "source": [
        "\"\"\"\n",
        "Closing a File Important for the following reasons:\n",
        "\n",
        "Freeing System Resources:\n",
        "1.Each open file consumes system resources.\n",
        "2.Keeping files open unnecessarily can exhaust these resources,\n",
        "especially in programs that open many files.\n",
        "\n",
        "Ensuring Data Is Written Properly:\n",
        "1.In write ('w') or append ('a') modes, data is often stored in a buffer before\n",
        "being written to the file.\n",
        "2.Closing the file ensures that all buffered data is flushed\n",
        "\n",
        "Avoiding Data Corruption:\n",
        "1.If a file remains open and a program crashes or exits unexpectedly,\n",
        "data might not be saved correctly.\n",
        "2.Closing the file guarantees that file operations are properly finalized.\n",
        "\n",
        "Preventing File Locking Issues:\n",
        "1.On some operating systems, an open file may be locked by the program,\n",
        "preventing other programs from accessing or modifying it.\n",
        "2.Closing the file releases the lock, allowing other programs or processes to\n",
        "access the file.\n",
        "\n",
        "\n",
        "\"\"\""
      ],
      "metadata": {
        "id": "dyHyUGwaWWlm"
      },
      "execution_count": null,
      "outputs": []
    },
    {
      "cell_type": "markdown",
      "source": [
        "Q20) What is the difference between file.read() and file.readline() in Python?"
      ],
      "metadata": {
        "id": "HSeoF3kAYcKg"
      }
    },
    {
      "cell_type": "code",
      "source": [
        "\"\"\"\n",
        "file.read():\n",
        "\n",
        "1.Purpose: Reads the entire content of the file or a specified number of bytes.\n",
        "\n",
        "2.Return Type: Returns a string containing the file's content.\n",
        "\n",
        "3.Behavior: If no argument is provided, it reads everything from the current\n",
        "file pointer to the end.\n",
        "\n",
        "4.Use Case: When you want to process the entire file content at once.\n",
        "\n",
        "file.readline():\n",
        "\n",
        "1.Purpose: Reads one line from the file at a time.\n",
        "\n",
        "2.Return Type: Returns a string containing the line, including the newline\n",
        "character (\\n).\n",
        "\n",
        "3.Behavior: Each call to readline() moves the file pointer to the next line.\n",
        "\n",
        "4.Use Case: When you want to process a file line by line.\n",
        "\n",
        "\"\"\""
      ],
      "metadata": {
        "id": "SKYsBp2XYeP_"
      },
      "execution_count": null,
      "outputs": []
    },
    {
      "cell_type": "markdown",
      "source": [
        "Q21) What is the logging module in Python used for?"
      ],
      "metadata": {
        "id": "2WpSA6TNah6V"
      }
    },
    {
      "cell_type": "code",
      "source": [
        "\"\"\"\n",
        "Purposes of the logging Module:\n",
        "\n",
        "Debugging and Diagnostics\n",
        "1.Helps developers identify and resolve issues in their code.\n",
        "2.Provides detailed information about the program flow, variable values, and errors.\n",
        "\n",
        "Event Tracking:\n",
        "1.Tracks significant events and actions that occur during the execution of a program.\n",
        "2.Useful for understanding how a program behaves over time.\n",
        "\n",
        "Error and Exception Reporting:\n",
        "1.Logs errors and exceptions that occur during execution.\n",
        "2.Helps in identifying the root cause of failures.\n",
        "\n",
        "Monitoring:\n",
        "1.Tracks the health and status of a long-running application or server.\n",
        "2.Can be configured to save logs to files or send them to external monitoring tools.\n",
        "\n",
        "Avoiding Print Statements:\n",
        "1.Replaces the use of print() statements for debugging and status updates.\n",
        "2.Allows better control over log output and flexibility in managing different\n",
        "levels of messages.\n",
        "\"\"\""
      ],
      "metadata": {
        "id": "cRaDwiv-alHk",
        "outputId": "6422d7ab-7f39-45b8-a055-f58cf98b8b99",
        "colab": {
          "base_uri": "https://localhost:8080/",
          "height": 72
        }
      },
      "execution_count": 1,
      "outputs": [
        {
          "output_type": "execute_result",
          "data": {
            "text/plain": [
              "'\\nPurposes of the logging Module:\\n✅ 1. Debugging and Diagnostics\\nHelps developers identify and resolve issues in their code.\\nProvides detailed information about the program flow, variable values, and errors.\\n'"
            ],
            "application/vnd.google.colaboratory.intrinsic+json": {
              "type": "string"
            }
          },
          "metadata": {},
          "execution_count": 1
        }
      ]
    },
    {
      "cell_type": "markdown",
      "source": [
        "Q22) What is the os module in Python used for in file handling?"
      ],
      "metadata": {
        "id": "4ZxUrJf9bEgK"
      }
    },
    {
      "cell_type": "code",
      "source": [
        "\"\"\"\n",
        "The os module in Python provides functions to interact with the operating system,\n",
        "including tools for file and directory management, environment variables,\n",
        "and system commands. In file handling, the os module allows you to perform operations\n",
        "like creating, deleting, renaming, and navigating through files and directories.\n",
        "\"\"\""
      ],
      "metadata": {
        "id": "bdOuNFi0apsI"
      },
      "execution_count": null,
      "outputs": []
    },
    {
      "cell_type": "markdown",
      "source": [
        "Q23) What are the challenges associated with memory management in Python?"
      ],
      "metadata": {
        "id": "0RKyvi-ybYNn"
      }
    },
    {
      "cell_type": "code",
      "source": [
        "\"\"\"\n",
        "Garbage Collection Overhead:\n",
        "1.Python uses garbage collection (GC) to reclaim unused memory.\n",
        "2.The garbage collector periodically scans for unreachable objects and frees their memory.\n",
        "\n",
        "Reference Cycles (Circular References):\n",
        "1.Objects that reference each other can create reference cycles.\n",
        "2.Python's reference counting mechanism cannot handle these cycles directly.\n",
        "\n",
        "Memory Fragmentation:\n",
        "1.Python uses dynamic memory allocation, which can lead to fragmentation.\n",
        "2.Fragmentation occurs when memory becomes scattered in non-contiguous blocks,\n",
        "reducing the efficiency of memory usage\n",
        "\n",
        "Global Interpreter Lock (GIL):\n",
        "1.Python’s Global Interpreter Lock (GIL) allows only one thread to execute Python\n",
        "bytecode at a time.\n",
        "2.While GIL doesn’t directly impact memory management, it can bottleneck\n",
        "multi-threaded memory access.\n",
        "\n",
        "Memory Leaks:\n",
        "1.Memory leaks occur when memory is allocated but not properly released.\n",
        "2.They are common in scenarios involving large datasets, circular references,\n",
        "or improper resource cleanup.\n",
        "\n",
        "Inefficient Data Structures:\n",
        "Choosing inappropriate data structures (e.g., lists for large datasets instead of generators)\n",
        "can waste memory.\n",
        "\n",
        "Third-Party Libraries and Extensions:\n",
        "Some third-party Python libraries (e.g., C extensions) may have poor memory management practices.\n",
        "\n",
        "Lack of Explicit Memory Management:\n",
        "Python abstracts away memory management from the developer.\n",
        "\n",
        "Long-Lived Objects in Caches:\n",
        "Objects stored in caches or global variables may persist longer than necessary.\n",
        "\n",
        "Mismanagement of Immutable Objects:\n",
        "1.Python strings and tuples are immutable.\n",
        "2.Creating unnecessary duplicates can increase memory usage.\n",
        "\"\"\""
      ],
      "metadata": {
        "id": "klc8JoUAbahc"
      },
      "execution_count": null,
      "outputs": []
    },
    {
      "cell_type": "markdown",
      "source": [
        "Q24) How do you raise an exception manually in Python?"
      ],
      "metadata": {
        "id": "NzIZHMMUcmnZ"
      }
    },
    {
      "cell_type": "code",
      "source": [
        "\"\"\"\n",
        "In Python, you can manually raise an exception using the raise keyword.\n",
        "\n",
        "1. Raising Built-in Exceptions:\n",
        "You can raise built-in exceptions like ValueError, TypeError, or KeyError.\n",
        "\n",
        "2. Raising a Custom Exception:\n",
        "You can define your own exception class by inheriting from the Exception class`.\n",
        "\n",
        "3. Raising an Exception Without Arguments:\n",
        "You can also raise an exception without passing an error message.\n",
        "\n",
        "4. Re-Raising an Exception:\n",
        "When catching an exception, you can re-raise it using raise without specifying\n",
        "the exception type.\n",
        "\n",
        "5.Using raise with from for Exception Chaining:\n",
        "You can use raise ... from ... to chain exceptions, showing the original cause\n",
        "of the exception.\n",
        "\n",
        "6. Raising AssertionError Using assert:\n",
        "The assert statement can also raise an exception if a condition is False.\n",
        "\n",
        "\"\"\""
      ],
      "metadata": {
        "id": "M9u2eRpKcqji"
      },
      "execution_count": null,
      "outputs": []
    },
    {
      "cell_type": "markdown",
      "source": [
        "Q25) Why is it important to use multithreading in certain applications?"
      ],
      "metadata": {
        "id": "CGQNvoLtdR4g"
      }
    },
    {
      "cell_type": "code",
      "source": [
        "\"\"\"\n",
        "Multithreading allows a program to run multiple threads concurrently, enabling it\n",
        "to perform multiple tasks simultaneously. While Python's Global Interpreter Lock (GIL)\n",
        "restricts true parallelism in CPU-bound tasks, multithreading remains highly effective\n",
        "for I/O-bound tasks and applications that involve waiting on external resources.\n",
        "\"\"\""
      ],
      "metadata": {
        "id": "KGewhAZCdTOS",
        "outputId": "373e6ed5-c6cc-4685-f121-dc7d06aabb4f",
        "colab": {
          "base_uri": "https://localhost:8080/",
          "height": 108
        }
      },
      "execution_count": 3,
      "outputs": [
        {
          "output_type": "execute_result",
          "data": {
            "text/plain": [
              "\"\\nMultithreading allows a program to run multiple threads concurrently, enabling it \\nto perform multiple tasks simultaneously. While Python's Global Interpreter Lock (GIL) \\nrestricts true parallelism in CPU-bound tasks, multithreading remains highly effective \\nfor I/O-bound tasks and applications that involve waiting on external resources.\\n\""
            ],
            "application/vnd.google.colaboratory.intrinsic+json": {
              "type": "string"
            }
          },
          "metadata": {},
          "execution_count": 3
        }
      ]
    },
    {
      "cell_type": "markdown",
      "source": [
        "##Practical Questions"
      ],
      "metadata": {
        "id": "FJCu4ow3dycp"
      }
    },
    {
      "cell_type": "markdown",
      "source": [
        "Q1)  How can you open a file for writing in Python and write a string to it?"
      ],
      "metadata": {
        "id": "TLx6vx_ld1ng"
      }
    },
    {
      "cell_type": "code",
      "source": [
        "# Open the file in write mode\n",
        "with open('example.txt', 'w') as file:\n",
        "    file.write('Hello, this is a sample text.')\n"
      ],
      "metadata": {
        "id": "sDlLiNmidToO"
      },
      "execution_count": 4,
      "outputs": []
    },
    {
      "cell_type": "markdown",
      "source": [
        "Q2) Write a Python program to read the contents of a file and print each line?"
      ],
      "metadata": {
        "id": "m-Khx9cBeqjY"
      }
    },
    {
      "cell_type": "code",
      "source": [
        "# Open the file in read mode and print each line\n",
        "try:\n",
        "    with open('example.txt', 'r') as file:\n",
        "        for line in file:\n",
        "            print(line.strip())  # strip() removes leading/trailing whitespaces and newline characters\n",
        "except FileNotFoundError:\n",
        "    print(\"Error: The file 'example.txt' was not found.\")\n",
        "except IOError:\n",
        "    print(\"Error: An error occurred while reading the file.\")\n"
      ],
      "metadata": {
        "id": "O_v31S9ber6l",
        "outputId": "2f0d607e-d646-4efc-b128-06f593538b44",
        "colab": {
          "base_uri": "https://localhost:8080/"
        }
      },
      "execution_count": 5,
      "outputs": [
        {
          "output_type": "stream",
          "name": "stdout",
          "text": [
            "Hello, this is a sample text.\n"
          ]
        }
      ]
    },
    {
      "cell_type": "markdown",
      "source": [
        "Q3) How would you handle a case where the file doesn't exist while trying to open it for reading?"
      ],
      "metadata": {
        "id": "nPvYbfeTeyVU"
      }
    },
    {
      "cell_type": "code",
      "source": [
        "try:\n",
        "    # Attempt to open the file for reading\n",
        "    with open('example.txt', 'r') as file:\n",
        "        # If file is found, print its content\n",
        "        for line in file:\n",
        "            print(line.strip())  # strip() to remove leading/trailing whitespaces\n",
        "except FileNotFoundError:\n",
        "    # Handle the case when the file does not exist\n",
        "    print(\"Error: The file 'example.txt' was not found.\")\n",
        "except IOError:\n",
        "    # Handle other I/O errors\n",
        "    print(\"Error: An error occurred while reading the file.\")\n"
      ],
      "metadata": {
        "id": "W5Wvlagme0Bp",
        "outputId": "160fc2c7-4523-47f0-ac7e-d4fe0d06a728",
        "colab": {
          "base_uri": "https://localhost:8080/"
        }
      },
      "execution_count": 6,
      "outputs": [
        {
          "output_type": "stream",
          "name": "stdout",
          "text": [
            "Hello, this is a sample text.\n"
          ]
        }
      ]
    },
    {
      "cell_type": "markdown",
      "source": [
        "Q4) Write a Python script that reads from one file and writes its content to another file?"
      ],
      "metadata": {
        "id": "fCL4E-u7fAnZ"
      }
    },
    {
      "cell_type": "code",
      "source": [
        "try:\n",
        "    # Open the source file in read mode\n",
        "    with open('source.txt', 'r') as source_file:\n",
        "        # Open the destination file in write mode\n",
        "        with open('destination.txt', 'w') as dest_file:\n",
        "            # Read content from source file and write to destination file\n",
        "            content = source_file.read()\n",
        "            dest_file.write(content)\n",
        "    print(\"File content successfully copied.\")\n",
        "except FileNotFoundError:\n",
        "    print(\"Error: One of the files was not found.\")\n",
        "except IOError:\n",
        "    print(\"Error: An I/O error occurred while processing the files.\")\n"
      ],
      "metadata": {
        "id": "2uOFpnDGfB6B",
        "outputId": "19c5b089-93c3-4255-cca7-d3e5df5e1f19",
        "colab": {
          "base_uri": "https://localhost:8080/"
        }
      },
      "execution_count": 7,
      "outputs": [
        {
          "output_type": "stream",
          "name": "stdout",
          "text": [
            "Error: One of the files was not found.\n"
          ]
        }
      ]
    },
    {
      "cell_type": "markdown",
      "source": [
        "Q5) How would you catch and handle division by zero error in Python?"
      ],
      "metadata": {
        "id": "BCXovvb1fQTZ"
      }
    },
    {
      "cell_type": "code",
      "source": [
        "try:\n",
        "    # Try to perform division\n",
        "    numerator = 10\n",
        "    denominator = 0\n",
        "    result = numerator / denominator\n",
        "    print(\"Result:\", result)\n",
        "except ZeroDivisionError:\n",
        "    # Handle division by zero error\n",
        "    print(\"Error: Cannot divide by zero.\")\n"
      ],
      "metadata": {
        "id": "v3KXXLKyfReo",
        "outputId": "ecb3393c-359e-41ac-9c7e-8fc6c4605127",
        "colab": {
          "base_uri": "https://localhost:8080/"
        }
      },
      "execution_count": 8,
      "outputs": [
        {
          "output_type": "stream",
          "name": "stdout",
          "text": [
            "Error: Cannot divide by zero.\n"
          ]
        }
      ]
    },
    {
      "cell_type": "markdown",
      "source": [
        "Q6) Write a Python program that logs an error message to a log file when a division by zero exception occurs?"
      ],
      "metadata": {
        "id": "pkg6SBDBfdZq"
      }
    },
    {
      "cell_type": "code",
      "source": [
        "import logging\n",
        "\n",
        "# Set up logging configuration\n",
        "logging.basicConfig(\n",
        "    filename='error_log.txt',  # Log file name\n",
        "    level=logging.ERROR,       # Log only ERROR messages and above\n",
        "    format='%(asctime)s - %(levelname)s - %(message)s'  # Log format\n",
        ")\n",
        "\n",
        "try:\n",
        "    # Try to perform division\n",
        "    numerator = 10\n",
        "    denominator = 0\n",
        "    result = numerator / denominator\n",
        "    print(\"Result:\", result)\n",
        "except ZeroDivisionError as e:\n",
        "    # Log the error message to the log file\n",
        "    logging.error(\"Error: Division by zero occurred. %s\", e)\n",
        "    print(\"Error: Cannot divide by zero.\")\n"
      ],
      "metadata": {
        "id": "945sUYXcffsP",
        "outputId": "04de38e2-8982-44a3-9c82-9c6d328e5183",
        "colab": {
          "base_uri": "https://localhost:8080/"
        }
      },
      "execution_count": 9,
      "outputs": [
        {
          "output_type": "stream",
          "name": "stderr",
          "text": [
            "ERROR:root:Error: Division by zero occurred. division by zero\n"
          ]
        },
        {
          "output_type": "stream",
          "name": "stdout",
          "text": [
            "Error: Cannot divide by zero.\n"
          ]
        }
      ]
    },
    {
      "cell_type": "markdown",
      "source": [
        "Q7) How do you log information at different levels (INFO, ERROR, WARNING) in Python using the logging module?"
      ],
      "metadata": {
        "id": "A-Zc6pJ6frzU"
      }
    },
    {
      "cell_type": "code",
      "source": [
        "import logging\n",
        "\n",
        "# Set up logging configuration\n",
        "logging.basicConfig(\n",
        "    filename='app.log',   # Log file\n",
        "    level=logging.DEBUG,  # Log level (DEBUG, INFO, WARNING, ERROR, CRITICAL)\n",
        "    format='%(asctime)s - %(levelname)s - %(message)s'  # Format for log messages\n",
        ")\n",
        "\n",
        "# Logging at different levels\n",
        "\n",
        "# DEBUG: Detailed information for diagnosing problems\n",
        "logging.debug(\"This is a debug message. It provides detailed info for diagnosing problems.\")\n",
        "\n",
        "# INFO: General information about the application's progress or state\n",
        "logging.info(\"This is an info message. It indicates general application progress.\")\n",
        "\n",
        "# WARNING: A warning about something unexpected that doesn't stop the program\n",
        "logging.warning(\"This is a warning message. It indicates a potential issue.\")\n",
        "\n",
        "# ERROR: An error that affects the functionality of the application\n",
        "logging.error(\"This is an error message. Something went wrong!\")\n",
        "\n",
        "# CRITICAL: A very serious error, indicating the program might crash\n",
        "logging.critical(\"This is a critical message. The program is going to crash!\")\n",
        "\n"
      ],
      "metadata": {
        "id": "f5WK8NFAfuIy",
        "outputId": "b080d10f-131e-456f-85d0-40ad51314f67",
        "colab": {
          "base_uri": "https://localhost:8080/"
        }
      },
      "execution_count": 10,
      "outputs": [
        {
          "output_type": "stream",
          "name": "stderr",
          "text": [
            "WARNING:root:This is a warning message. It indicates a potential issue.\n",
            "ERROR:root:This is an error message. Something went wrong!\n",
            "CRITICAL:root:This is a critical message. The program is going to crash!\n"
          ]
        }
      ]
    },
    {
      "cell_type": "markdown",
      "source": [
        "Q8)  Write a program to handle a file opening error using exception handling?"
      ],
      "metadata": {
        "id": "S4JlMZvBf5S1"
      }
    },
    {
      "cell_type": "code",
      "source": [
        "try:\n",
        "    # Attempt to open a file in read mode\n",
        "    with open('example.txt', 'r') as file:\n",
        "        # Read the contents of the file\n",
        "        content = file.read()\n",
        "        print(\"File content:\\n\", content)\n",
        "except FileNotFoundError:\n",
        "    # Handle file not found error\n",
        "    print(\"Error: The file 'example.txt' does not exist.\")\n",
        "except PermissionError:\n",
        "    # Handle permission error (if file is not accessible)\n",
        "    print(\"Error: You do not have permission to open the file 'example.txt'.\")\n",
        "except IOError as e:\n",
        "    # Handle other I/O errors\n",
        "    print(f\"Error: An I/O error occurred: {e}\")\n"
      ],
      "metadata": {
        "id": "4vIRN4ltf6uR",
        "outputId": "14da7fe3-354a-4f76-a5ca-3c131796d1e1",
        "colab": {
          "base_uri": "https://localhost:8080/"
        }
      },
      "execution_count": 11,
      "outputs": [
        {
          "output_type": "stream",
          "name": "stdout",
          "text": [
            "File content:\n",
            " Hello, this is a sample text.\n"
          ]
        }
      ]
    },
    {
      "cell_type": "markdown",
      "source": [
        "Q9) How can you read a file line by line and store its content in a list in Python?"
      ],
      "metadata": {
        "id": "_VR0tKi-gDin"
      }
    },
    {
      "cell_type": "code",
      "source": [
        "# Initialize an empty list to store file content\n",
        "lines = []\n",
        "\n",
        "try:\n",
        "    # Open the file in read mode\n",
        "    with open('example.txt', 'r') as file:\n",
        "        # Read each line and append it to the list\n",
        "        for line in file:\n",
        "            lines.append(line.strip())  # Remove newline character using strip()\n",
        "\n",
        "    # Print the list of lines\n",
        "    print(\"File content as a list of lines:\", lines)\n",
        "\n",
        "except FileNotFoundError:\n",
        "    print(\"Error: The file 'example.txt' does not exist.\")\n",
        "except IOError as e:\n",
        "    print(f\"Error: An I/O error occurred: {e}\")\n"
      ],
      "metadata": {
        "id": "Jkl9gOP7gE_1",
        "outputId": "5308799c-2c76-4286-8d34-e6e606f003aa",
        "colab": {
          "base_uri": "https://localhost:8080/"
        }
      },
      "execution_count": 12,
      "outputs": [
        {
          "output_type": "stream",
          "name": "stdout",
          "text": [
            "File content as a list of lines: ['Hello, this is a sample text.']\n"
          ]
        }
      ]
    },
    {
      "cell_type": "markdown",
      "source": [
        "Q10)  How can you append data to an existing file in Python?"
      ],
      "metadata": {
        "id": "NUQF_BCvgQKr"
      }
    },
    {
      "cell_type": "code",
      "source": [
        "try:\n",
        "    # Open the file in append mode\n",
        "    with open('example.txt', 'a') as file:\n",
        "        # Append new content to the file\n",
        "        file.write(\"\\nThis is an appended line of text.\")\n",
        "        file.write(\"\\nAppending another line to the file.\")\n",
        "\n",
        "    print(\"Data has been appended to the file.\")\n",
        "\n",
        "except FileNotFoundError:\n",
        "    print(\"Error: The file 'example.txt' does not exist.\")\n",
        "except IOError as e:\n",
        "    print(f\"Error: An I/O error occurred: {e}\")\n"
      ],
      "metadata": {
        "id": "iy1KQeRvgROp",
        "outputId": "6ef79089-0595-4c2c-d95b-78cdaa6f19f9",
        "colab": {
          "base_uri": "https://localhost:8080/"
        }
      },
      "execution_count": 13,
      "outputs": [
        {
          "output_type": "stream",
          "name": "stdout",
          "text": [
            "Data has been appended to the file.\n"
          ]
        }
      ]
    },
    {
      "cell_type": "markdown",
      "source": [
        "Q11) Write a Python program that uses a try-except block to handle an error when attempting to access a dictionary key that doesn't exist?"
      ],
      "metadata": {
        "id": "Z5iPXsavgYee"
      }
    },
    {
      "cell_type": "code",
      "source": [
        "# Sample dictionary\n",
        "my_dict = {'name': 'John', 'age': 30, 'city': 'New York'}\n",
        "\n",
        "# Try to access a key that doesn't exist in the dictionary\n",
        "try:\n",
        "    # Accessing a non-existing key\n",
        "    print(my_dict['occupation'])\n",
        "except KeyError:\n",
        "    # Handle the error if the key doesn't exist\n",
        "    print(\"Error: The key 'occupation' does not exist in the dictionary.\")\n"
      ],
      "metadata": {
        "id": "8Hvpm5dlga1c",
        "outputId": "18bd9819-d61c-436f-a2c5-afe929411cc6",
        "colab": {
          "base_uri": "https://localhost:8080/"
        }
      },
      "execution_count": 14,
      "outputs": [
        {
          "output_type": "stream",
          "name": "stdout",
          "text": [
            "Error: The key 'occupation' does not exist in the dictionary.\n"
          ]
        }
      ]
    },
    {
      "cell_type": "markdown",
      "source": [
        "Q12) Write a program that demonstrates using multiple except blocks to handle different types of exceptions?"
      ],
      "metadata": {
        "id": "gxmSG_vWgl8g"
      }
    },
    {
      "cell_type": "code",
      "source": [
        "try:\n",
        "    # Ask the user for two numbers to divide\n",
        "    num1 = int(input(\"Enter the first number: \"))\n",
        "    num2 = int(input(\"Enter the second number: \"))\n",
        "\n",
        "    # Perform division\n",
        "    result = num1 / num2\n",
        "    print(f\"The result of {num1} / {num2} is: {result}\")\n",
        "\n",
        "except ZeroDivisionError:\n",
        "    # Handle division by zero error\n",
        "    print(\"Error: You cannot divide by zero.\")\n",
        "\n",
        "except ValueError:\n",
        "    # Handle invalid input (non-integer input) error\n",
        "    print(\"Error: Please enter valid integers.\")\n",
        "\n",
        "except Exception as e:\n",
        "    # Handle any other exceptions\n",
        "    print(f\"An unexpected error occurred: {e}\")\n"
      ],
      "metadata": {
        "id": "WgKmSaeGgnD5",
        "outputId": "c00298bd-1246-46b3-a833-8361dfbc1518",
        "colab": {
          "base_uri": "https://localhost:8080/"
        }
      },
      "execution_count": 16,
      "outputs": [
        {
          "output_type": "stream",
          "name": "stdout",
          "text": [
            "Enter the first number: 23\n",
            "Enter the second number: 12\n",
            "The result of 23 / 12 is: 1.9166666666666667\n"
          ]
        }
      ]
    },
    {
      "cell_type": "markdown",
      "source": [
        "Q13) How would you check if a file exists before attempting to read it in Python?"
      ],
      "metadata": {
        "id": "NBV85DuRg2s5"
      }
    },
    {
      "cell_type": "code",
      "source": [
        "import os\n",
        "\n",
        "# Specify the file name\n",
        "file_name = 'example.txt'\n",
        "\n",
        "# Check if the file exists\n",
        "if os.path.exists(file_name):\n",
        "    try:\n",
        "        # Open the file and read its contents\n",
        "        with open(file_name, 'r') as file:\n",
        "            content = file.read()\n",
        "            print(\"File Content:\\n\", content)\n",
        "    except IOError as e:\n",
        "        print(f\"Error: An I/O error occurred while reading the file: {e}\")\n",
        "else:\n",
        "    print(f\"Error: The file '{file_name}' does not exist.\")\n"
      ],
      "metadata": {
        "id": "8BC7iDFIg6bS",
        "outputId": "eb5c9a06-266a-4d0b-c42b-6a0ca1d559e4",
        "colab": {
          "base_uri": "https://localhost:8080/"
        }
      },
      "execution_count": 17,
      "outputs": [
        {
          "output_type": "stream",
          "name": "stdout",
          "text": [
            "File Content:\n",
            " Hello, this is a sample text.\n",
            "This is an appended line of text.\n",
            "Appending another line to the file.\n"
          ]
        }
      ]
    },
    {
      "cell_type": "markdown",
      "source": [
        "Q14)  Write a program that uses the logging module to log both informational and error messages?"
      ],
      "metadata": {
        "id": "ZuA4us7NhJXr"
      }
    },
    {
      "cell_type": "code",
      "source": [
        "import logging\n",
        "\n",
        "# Configure the logging module\n",
        "logging.basicConfig(\n",
        "    filename='app.log',               # Log messages will be saved to 'app.log'\n",
        "    level=logging.DEBUG,               # Capture all levels (DEBUG and higher)\n",
        "    format='%(asctime)s - %(levelname)s - %(message)s'  # Log format with timestamp\n",
        ")\n",
        "\n",
        "# Log an informational message\n",
        "logging.info(\"This is an informational message.\")\n",
        "\n",
        "# Simulating a situation where an error occurs\n",
        "try:\n",
        "    result = 10 / 0\n",
        "except ZeroDivisionError as e:\n",
        "    logging.error(f\"Error: {e}\")  # Log an error message if a division by zero occurs\n",
        "\n",
        "# Log another informational message\n",
        "logging.info(\"Program execution completed.\")\n"
      ],
      "metadata": {
        "id": "GMpg5CF0hKdv",
        "outputId": "d58b8abf-22f7-4555-ea91-f2268efd5477",
        "colab": {
          "base_uri": "https://localhost:8080/"
        }
      },
      "execution_count": 18,
      "outputs": [
        {
          "output_type": "stream",
          "name": "stderr",
          "text": [
            "ERROR:root:Error: division by zero\n"
          ]
        }
      ]
    },
    {
      "cell_type": "markdown",
      "source": [
        "Q15) Write a Python program that prints the content of a file and handles the case when the file is empty?"
      ],
      "metadata": {
        "id": "Ex9QzAzghTj1"
      }
    },
    {
      "cell_type": "code",
      "source": [
        "# Specify the file name\n",
        "file_name = 'example.txt'\n",
        "\n",
        "try:\n",
        "    # Open the file in read mode\n",
        "    with open(file_name, 'r') as file:\n",
        "        content = file.read()\n",
        "\n",
        "        # Check if the file is empty\n",
        "        if not content:\n",
        "            print(\"The file is empty.\")\n",
        "        else:\n",
        "            print(\"File Content:\\n\", content)\n",
        "except FileNotFoundError:\n",
        "    print(f\"Error: The file '{file_name}' does not exist.\")\n",
        "except IOError as e:\n",
        "    print(f\"Error: An I/O error occurred while reading the file: {e}\")\n"
      ],
      "metadata": {
        "id": "5P1abx_0hUu-",
        "outputId": "12a1cbbf-dd1f-4034-d964-95ba63e11d6f",
        "colab": {
          "base_uri": "https://localhost:8080/"
        }
      },
      "execution_count": 19,
      "outputs": [
        {
          "output_type": "stream",
          "name": "stdout",
          "text": [
            "File Content:\n",
            " Hello, this is a sample text.\n",
            "This is an appended line of text.\n",
            "Appending another line to the file.\n"
          ]
        }
      ]
    },
    {
      "cell_type": "markdown",
      "source": [
        "Q16)  Demonstrate how to use memory profiling to check the memory usage of a small program?"
      ],
      "metadata": {
        "id": "YIaY91l8hdBB"
      }
    },
    {
      "cell_type": "code",
      "source": [
        "pip install memory-profiler\n"
      ],
      "metadata": {
        "id": "5P9KCPImheW4",
        "outputId": "be13a881-7d02-4ef2-d47c-23edb8566165",
        "colab": {
          "base_uri": "https://localhost:8080/"
        }
      },
      "execution_count": 20,
      "outputs": [
        {
          "output_type": "stream",
          "name": "stdout",
          "text": [
            "Collecting memory-profiler\n",
            "  Downloading memory_profiler-0.61.0-py3-none-any.whl.metadata (20 kB)\n",
            "Requirement already satisfied: psutil in /usr/local/lib/python3.10/dist-packages (from memory-profiler) (5.9.5)\n",
            "Downloading memory_profiler-0.61.0-py3-none-any.whl (31 kB)\n",
            "Installing collected packages: memory-profiler\n",
            "Successfully installed memory-profiler-0.61.0\n"
          ]
        }
      ]
    },
    {
      "cell_type": "code",
      "source": [
        "from memory_profiler import profile\n",
        "\n",
        "# Function to demonstrate memory usage\n",
        "@profile\n",
        "def test_function():\n",
        "    a = [i for i in range(10000)]  # List comprehension to generate a list\n",
        "    b = {i: i * 2 for i in range(5000)}  # Dictionary comprehension to generate a dictionary\n",
        "    return a, b\n",
        "\n",
        "# Calling the function\n",
        "if __name__ == \"__main__\":\n",
        "    test_function()\n"
      ],
      "metadata": {
        "id": "SvINabwnhof5",
        "outputId": "50647262-809c-4aa7-f5a6-2ae8272e6dad",
        "colab": {
          "base_uri": "https://localhost:8080/"
        }
      },
      "execution_count": 21,
      "outputs": [
        {
          "output_type": "stream",
          "name": "stderr",
          "text": [
            "\n",
            "PYDEV DEBUGGER WARNING:\n",
            "sys.settrace() should not be used when the debugger is being used.\n",
            "This may cause the debugger to stop working correctly.\n",
            "If this is needed, please check: \n",
            "http://pydev.blogspot.com/2007/06/why-cant-pydev-debugger-work-with.html\n",
            "to see how to restore the debug tracing back correctly.\n",
            "Call Location:\n",
            "  File \"/usr/local/lib/python3.10/dist-packages/memory_profiler.py\", line 847, in enable\n",
            "    sys.settrace(self.trace_memory_usage)\n",
            "\n",
            "\n",
            "PYDEV DEBUGGER WARNING:\n",
            "sys.settrace() should not be used when the debugger is being used.\n",
            "This may cause the debugger to stop working correctly.\n",
            "If this is needed, please check: \n",
            "http://pydev.blogspot.com/2007/06/why-cant-pydev-debugger-work-with.html\n",
            "to see how to restore the debug tracing back correctly.\n",
            "Call Location:\n",
            "  File \"/usr/local/lib/python3.10/dist-packages/memory_profiler.py\", line 850, in disable\n",
            "    sys.settrace(self._original_trace_function)\n",
            "\n"
          ]
        },
        {
          "output_type": "stream",
          "name": "stdout",
          "text": [
            "ERROR: Could not find file <ipython-input-21-f5c6684f1197>\n",
            "NOTE: %mprun can only be used on functions defined in physical files, and not in the IPython environment.\n"
          ]
        }
      ]
    },
    {
      "cell_type": "markdown",
      "source": [
        "Q17) Write a Python program to create and write a list of numbers to a file, one number per line?"
      ],
      "metadata": {
        "id": "upCkG6KuhuzE"
      }
    },
    {
      "cell_type": "code",
      "source": [
        "# List of numbers to write to the file\n",
        "numbers = [1, 2, 3, 4, 5, 6, 7, 8, 9, 10]\n",
        "\n",
        "# Specify the file name\n",
        "file_name = 'numbers.txt'\n",
        "\n",
        "try:\n",
        "    # Open the file in write mode ('w')\n",
        "    with open(file_name, 'w') as file:\n",
        "        # Loop through the list and write each number to a new line\n",
        "        for number in numbers:\n",
        "            file.write(f\"{number}\\n\")\n",
        "    print(f\"Numbers have been written to {file_name}.\")\n",
        "except IOError as e:\n",
        "    print(f\"Error: Unable to write to the file: {e}\")\n"
      ],
      "metadata": {
        "id": "N1ffM-kOhv8a",
        "outputId": "cd308ce3-c73d-4c63-9843-45d652708811",
        "colab": {
          "base_uri": "https://localhost:8080/"
        }
      },
      "execution_count": 22,
      "outputs": [
        {
          "output_type": "stream",
          "name": "stdout",
          "text": [
            "Numbers have been written to numbers.txt.\n"
          ]
        }
      ]
    },
    {
      "cell_type": "markdown",
      "source": [
        " Q18) How would you implement a basic logging setup that logs to a file with rotation after 1MB?"
      ],
      "metadata": {
        "id": "8wymit1kh5su"
      }
    },
    {
      "cell_type": "code",
      "source": [
        "import logging\n",
        "from logging.handlers import RotatingFileHandler\n",
        "\n",
        "# Set up the logger\n",
        "logger = logging.getLogger('my_logger')\n",
        "logger.setLevel(logging.DEBUG)\n",
        "\n",
        "# Create a RotatingFileHandler that rotates the log file after it reaches 1MB\n",
        "handler = RotatingFileHandler('app.log', maxBytes=1*1024*1024, backupCount=3)\n",
        "handler.setLevel(logging.DEBUG)\n",
        "\n",
        "# Create a log format\n",
        "formatter = logging.Formatter('%(asctime)s - %(levelname)s - %(message)s')\n",
        "handler.setFormatter(formatter)\n",
        "\n",
        "# Add the handler to the logger\n",
        "logger.addHandler(handler)\n",
        "\n",
        "# Log some messages\n",
        "logger.debug('This is a debug message.')\n",
        "logger.info('This is an info message.')\n",
        "logger.warning('This is a warning message.')\n",
        "logger.error('This is an error message.')\n",
        "logger.critical('This is a critical message.')\n"
      ],
      "metadata": {
        "id": "1KHeCAxKh6Z9",
        "outputId": "6c4e6948-dd4e-442f-dd50-7b87a6370d7e",
        "colab": {
          "base_uri": "https://localhost:8080/"
        }
      },
      "execution_count": 23,
      "outputs": [
        {
          "output_type": "stream",
          "name": "stderr",
          "text": [
            "DEBUG:my_logger:This is a debug message.\n",
            "INFO:my_logger:This is an info message.\n",
            "WARNING:my_logger:This is a warning message.\n",
            "ERROR:my_logger:This is an error message.\n",
            "CRITICAL:my_logger:This is a critical message.\n"
          ]
        }
      ]
    },
    {
      "cell_type": "markdown",
      "source": [
        "Q19)  Write a program that handles both IndexError and KeyError using a try-except block?"
      ],
      "metadata": {
        "id": "KGPx5UcwiIN8"
      }
    },
    {
      "cell_type": "code",
      "source": [
        "# Sample list and dictionary\n",
        "sample_list = [1, 2, 3, 4]\n",
        "sample_dict = {\"a\": 1, \"b\": 2, \"c\": 3}\n",
        "\n",
        "# Try block to handle potential exceptions\n",
        "try:\n",
        "    # Try accessing an element from the list at an invalid index\n",
        "    print(sample_list[5])  # This will raise an IndexError\n",
        "\n",
        "    # Try accessing a non-existing key in the dictionary\n",
        "    print(sample_dict[\"d\"])  # This will raise a KeyError\n",
        "\n",
        "except IndexError as e:\n",
        "    print(f\"IndexError occurred: {e}\")\n",
        "\n",
        "except KeyError as e:\n",
        "    print(f\"KeyError occurred: {e}\")\n"
      ],
      "metadata": {
        "id": "HwhVa9lviJ1r",
        "outputId": "73a1a1ac-e41b-49ce-efa6-65005c7d66d5",
        "colab": {
          "base_uri": "https://localhost:8080/"
        }
      },
      "execution_count": 24,
      "outputs": [
        {
          "output_type": "stream",
          "name": "stdout",
          "text": [
            "IndexError occurred: list index out of range\n"
          ]
        }
      ]
    },
    {
      "cell_type": "markdown",
      "source": [
        "Q20)  How would you open a file and read its contents using a context manager in Python?"
      ],
      "metadata": {
        "id": "vb5Z6CjniV-8"
      }
    },
    {
      "cell_type": "code",
      "source": [
        "# Specify the file name\n",
        "file_name = 'example.txt'\n",
        "\n",
        "# Using context manager to open and read the file\n",
        "try:\n",
        "    with open(file_name, 'r') as file:\n",
        "        content = file.read()  # Read the entire content of the file\n",
        "        print(content)  # Print the content of the file\n",
        "except FileNotFoundError:\n",
        "    print(f\"Error: The file '{file_name}' does not exist.\")\n",
        "except IOError as e:\n",
        "    print(f\"Error: An I/O error occurred: {e}\")\n"
      ],
      "metadata": {
        "id": "uf1RZOtPinMv",
        "outputId": "aa702eb4-d8a1-4adc-bba5-d487d969090f",
        "colab": {
          "base_uri": "https://localhost:8080/"
        }
      },
      "execution_count": 25,
      "outputs": [
        {
          "output_type": "stream",
          "name": "stdout",
          "text": [
            "Hello, this is a sample text.\n",
            "This is an appended line of text.\n",
            "Appending another line to the file.\n"
          ]
        }
      ]
    },
    {
      "cell_type": "markdown",
      "source": [
        "Q21)  Write a Python program that reads a file and prints the number of occurrences of a specific word?"
      ],
      "metadata": {
        "id": "kIY8IYBhizpL"
      }
    },
    {
      "cell_type": "code",
      "source": [
        "# Specify the file name and the word to search for\n",
        "file_name = 'example.txt'\n",
        "search_word = 'Python'\n",
        "\n",
        "try:\n",
        "    # Open the file in read mode\n",
        "    with open(file_name, 'r') as file:\n",
        "        # Read all lines in the file\n",
        "        content = file.read()\n",
        "\n",
        "    # Count the occurrences of the specified word (case-insensitive)\n",
        "    word_count = content.lower().split().count(search_word.lower())\n",
        "\n",
        "    # Print the number of occurrences\n",
        "    print(f\"The word '{search_word}' appears {word_count} times in the file.\")\n",
        "except FileNotFoundError:\n",
        "    print(f\"Error: The file '{file_name}' does not exist.\")\n",
        "except IOError as e:\n",
        "    print(f\"Error: An I/O error occurred: {e}\")\n"
      ],
      "metadata": {
        "id": "0yrWKgTVi06-",
        "outputId": "16c97261-7349-4c74-a309-51b39944e38d",
        "colab": {
          "base_uri": "https://localhost:8080/"
        }
      },
      "execution_count": 26,
      "outputs": [
        {
          "output_type": "stream",
          "name": "stdout",
          "text": [
            "The word 'Python' appears 0 times in the file.\n"
          ]
        }
      ]
    },
    {
      "cell_type": "markdown",
      "source": [
        "Q22) How can you check if a file is empty before attempting to read its contents?"
      ],
      "metadata": {
        "id": "4NLN5_T6i968"
      }
    },
    {
      "cell_type": "code",
      "source": [
        "import os\n",
        "\n",
        "# Specify the file name\n",
        "file_name = 'example.txt'\n",
        "\n",
        "# Check if the file exists\n",
        "if os.path.exists(file_name):\n",
        "    if os.path.getsize(file_name) == 0:\n",
        "        print(f\"The file '{file_name}' is empty.\")\n",
        "    else:\n",
        "        with open(file_name, 'r') as file:\n",
        "            content = file.read()\n",
        "            print(\"File Content:\")\n",
        "            print(content)\n",
        "else:\n",
        "    print(f\"Error: The file '{file_name}' does not exist.\")\n"
      ],
      "metadata": {
        "id": "mHCd3GWwjATV",
        "outputId": "69629d36-c40f-48eb-83cb-01aac35729fd",
        "colab": {
          "base_uri": "https://localhost:8080/"
        }
      },
      "execution_count": 27,
      "outputs": [
        {
          "output_type": "stream",
          "name": "stdout",
          "text": [
            "File Content:\n",
            "Hello, this is a sample text.\n",
            "This is an appended line of text.\n",
            "Appending another line to the file.\n"
          ]
        }
      ]
    },
    {
      "cell_type": "markdown",
      "source": [
        "Q23) Write a Python program that writes to a log file when an error occurs during file handling?"
      ],
      "metadata": {
        "id": "9QpuMmLgjMQ7"
      }
    },
    {
      "cell_type": "code",
      "source": [
        "import logging\n",
        "\n",
        "# Configure the logging settings\n",
        "logging.basicConfig(\n",
        "    filename='file_handling_errors.log',  # Log file name\n",
        "    level=logging.ERROR,  # Log only errors and above\n",
        "    format='%(asctime)s - %(levelname)s - %(message)s'  # Log message format\n",
        ")\n",
        "\n",
        "# File name to handle\n",
        "file_name = 'example.txt'\n",
        "\n",
        "try:\n",
        "    # Attempt to open and read the file\n",
        "    with open(file_name, 'r') as file:\n",
        "        content = file.read()\n",
        "        print(\"File Content:\")\n",
        "        print(content)\n",
        "except FileNotFoundError as e:\n",
        "    logging.error(f\"FileNotFoundError: {e}\")\n",
        "    print(\"Error: The file does not exist. Check the log file for details.\")\n",
        "except PermissionError as e:\n",
        "    logging.error(f\"PermissionError: {e}\")\n",
        "    print(\"Error: Permission denied. Check the log file for details.\")\n",
        "except IOError as e:\n",
        "    logging.error(f\"IOError: {e}\")\n",
        "    print(\"Error: An I/O error occurred. Check the log file for details.\")\n",
        "except Exception as e:\n",
        "    logging.error(f\"Unexpected error: {e}\")\n",
        "    print(\"An unexpected error occurred. Check the log file for details.\")\n"
      ],
      "metadata": {
        "id": "6BxxrmaKjNjF",
        "outputId": "93d00fe3-509f-41b6-884d-5c0e63f4fd5f",
        "colab": {
          "base_uri": "https://localhost:8080/"
        }
      },
      "execution_count": 28,
      "outputs": [
        {
          "output_type": "stream",
          "name": "stdout",
          "text": [
            "File Content:\n",
            "Hello, this is a sample text.\n",
            "This is an appended line of text.\n",
            "Appending another line to the file.\n"
          ]
        }
      ]
    }
  ]
}